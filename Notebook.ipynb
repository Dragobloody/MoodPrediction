{
 "cells": [
  {
   "cell_type": "markdown",
   "metadata": {},
   "source": [
    "# Mood Prediction"
   ]
  },
  {
   "cell_type": "markdown",
   "metadata": {},
   "source": [
    "## Data Preprocessing"
   ]
  },
  {
   "cell_type": "code",
   "execution_count": 413,
   "metadata": {},
   "outputs": [],
   "source": [
    "import pandas as pd\n",
    "import numpy as np\n",
    "import matplotlib.pyplot as plt\n",
    "from sklearn.decomposition import PCA\n",
    "from sklearn.preprocessing import StandardScaler\n",
    "\n",
    "import data_preprocessing as dprep\n",
    "import train_test as tt\n",
    "\n",
    "DATA_PATH = 'data/dataset_mood_smartphone.csv'"
   ]
  },
  {
   "cell_type": "markdown",
   "metadata": {},
   "source": [
    "Uncomment this cell to rerun data preprocessing, otherwise we load it in the next one."
   ]
  },
  {
   "cell_type": "code",
   "execution_count": 2,
   "metadata": {},
   "outputs": [],
   "source": [
    "# #################################### LOAD DATA #########################################\n",
    "# data, ids, variables = dprep.load_data(DATA_PATH)\n",
    "\n",
    "# ############################ GET STATISTICS AND CLEAN DATA ###############################\n",
    "# data = dprep.remove_5(data, variables)\n",
    "# table = dprep.stats(data, variables)\n",
    "# table2 = dprep.stats(data, variables) \n",
    "\n",
    "\n",
    "# ########################## GROUP DATA BY patient, DAY, VARIABLE ###############################    \n",
    "# data_call_sms = data.loc[~data['variable'].isin(['mood','activity','circumplex.arousal','circumplex.valence'])].groupby(['id','time','variable']).sum().reset_index()\n",
    "# data_else = data.loc[data['variable'].isin(['mood','activity','circumplex.arousal','circumplex.valence'])].groupby(['id','time','variable']).mean().reset_index()\n",
    "# data = pd.concat([data_call_sms,data_else]).sort_values(by = ['id','time','variable'])\n",
    "\n",
    "# ################################ DEALING WITH MISSING DATA ################################### \n",
    "# data =  dprep.fill_missing_data(data, ids, variables)\n",
    "# data.to_csv(path_or_buf = 'data/data.csv')\n",
    "\n",
    "\n",
    "# ###################### REMOVE DAYS WITH NO RELEVANT DATA(SPARSE DATA) #########################\n",
    "# data = pd.crosstab(index = [data['id'],data['time']], \n",
    "#                    columns = data['variable'], values = data['value'], \n",
    "#                    aggfunc = lambda x:x).reset_index()\n",
    "\n",
    "# # Swap 3rd column with mood, so later mood is the first column\n",
    "# columns_new = data.columns.values.copy() \n",
    "# columns_new[2], columns_new[18] = columns_new[18], columns_new[2]\n",
    "# data = data[columns_new]\n",
    "\n",
    "# data = dprep.remove_days(data,ids)\n",
    "# data.to_csv(path_or_buf = 'data/data.csv')"
   ]
  },
  {
   "cell_type": "code",
   "execution_count": 417,
   "metadata": {},
   "outputs": [],
   "source": [
    "data, ids, variables = dprep.load_data(DATA_PATH)\n",
    "data = pd.read_csv('data/data.csv',index_col=0)"
   ]
  },
  {
   "cell_type": "code",
   "execution_count": 418,
   "metadata": {},
   "outputs": [],
   "source": [
    "################################## CORRELATION MATRXIX ####################################\n",
    "total_corr, patient_corr, patient_mood_corr = dprep.correlation(data,ids)\n",
    "\n",
    "####################### INDIVIDUALIZE DATA AND REMOVE INDIVIDUAL NaN DIMS ######################\n",
    "patients_original = dprep.individualize(data, ids, patient_mood_corr)"
   ]
  },
  {
   "cell_type": "markdown",
   "metadata": {},
   "source": [
    "Minimal dataset made out of the variables with the highest correlation"
   ]
  },
  {
   "cell_type": "code",
   "execution_count": 451,
   "metadata": {},
   "outputs": [],
   "source": [
    "patients_minimal = {}\n",
    "for k,v in patients_original.items():\n",
    "    patients_minimal[k] = patients_original[k][['mood', 'circumplex.valence', 'circumplex.arousal']]"
   ]
  },
  {
   "cell_type": "markdown",
   "metadata": {},
   "source": [
    "Create several datasets and apply several transformations\n",
    "\n",
    "In the end we initially get data (n_samples, time_seq, features) which we can use for the LSTM.\n",
    "\n",
    "We either average over the timesteps or flatten them for the SVM/other algorithms"
   ]
  },
  {
   "cell_type": "code",
   "execution_count": 779,
   "metadata": {},
   "outputs": [],
   "source": [
    "period=3\n",
    "\n",
    "def get_data(minimal=False, apply_std=True, apply_pca=True):\n",
    "    if minimal:\n",
    "        patients_data = patients_minimal\n",
    "    else:\n",
    "        patients_data = patients_original\n",
    "        \n",
    "    X_train, _, X_test, _ = tt.train_test(patients_data, None, ids, ratio_train=0.8)\n",
    "    X_train_orig = X_train.copy()\n",
    "    X_test_orig = X_test.copy()\n",
    "    \n",
    "    if apply_std:\n",
    "        X_train, X_test = dprep.standardization(X_train, X_test, ids)\n",
    "    if apply_pca:\n",
    "        X_train, X_test = dprep.pca(X_train, X_test, ids)\n",
    "        \n",
    "    X_train, Y_train, X_test, Y_test = tt.make_sequences(X_train, X_test, X_train_orig, X_test_orig, period=period)\n",
    "    return X_train, Y_train, X_test, Y_test, X_train_orig, X_test_orig"
   ]
  },
  {
   "cell_type": "markdown",
   "metadata": {},
   "source": [
    "Choose full or minimal dataset here!"
   ]
  },
  {
   "cell_type": "code",
   "execution_count": 804,
   "metadata": {},
   "outputs": [],
   "source": [
    "dataset = 'full'\n",
    "if dataset == 'full':\n",
    "    X_train, Y_train, X_test, Y_test, X_train_orig, X_test_orig = get_data()\n",
    "else:\n",
    "    X_train, Y_train, X_test, Y_test, X_train_orig, X_test_orig = get_data(minimal=True, apply_pca=False, apply_std=False)"
   ]
  },
  {
   "cell_type": "code",
   "execution_count": 805,
   "metadata": {},
   "outputs": [],
   "source": [
    "avg_X_train, avg_X_test = map(tt.average_timesteps, [X_train, X_test])\n",
    "reshaped_X_train, reshaped_X_test = map(tt.flatten_timesteps, [X_train, X_test])"
   ]
  },
  {
   "cell_type": "markdown",
   "metadata": {},
   "source": [
    "We also create merged datasets with data from all users. This only works if the feature dimension is the same for every user which is not always the case (we need PCA applied, or the minimal dataset)"
   ]
  },
  {
   "cell_type": "code",
   "execution_count": 806,
   "metadata": {},
   "outputs": [],
   "source": [
    "X_train_all, Y_train_all, X_test_all, Y_test_all = tt.train_test_all(X_train, Y_train, X_test, Y_test, ids)\n",
    "avg_X_train_all, _, avg_X_test_all, _ = tt.train_test_all(avg_X_train, Y_train, avg_X_test, Y_test, ids)\n",
    "reshaped_X_train_all, _, reshaped_X_test_all, _ = tt.train_test_all(reshaped_X_train, Y_train, reshaped_X_test, Y_test, ids)"
   ]
  },
  {
   "cell_type": "markdown",
   "metadata": {},
   "source": [
    "Take the mean of the training set as a baseline"
   ]
  },
  {
   "cell_type": "code",
   "execution_count": 807,
   "metadata": {},
   "outputs": [],
   "source": [
    "# Mean mood on the training set\n",
    "avg = np.concatenate([x[:,0] for x in X_train_orig.values()]).mean()\n",
    "baseline_all = ((Y_test_all - avg.mean())**2).mean()\n",
    "baseline = np.array([((Y_test[k] - avg)**2).mean() for k in Y_test.keys()])\n",
    "baseline_avg = np.average(baseline, weights=weights)"
   ]
  },
  {
   "cell_type": "code",
   "execution_count": 808,
   "metadata": {},
   "outputs": [
    {
     "name": "stdout",
     "output_type": "stream",
     "text": [
      "\n",
      "Benchmark average: 0.5075710503450583\n",
      "Benchmark all: 0.5030628047278427\n",
      "Baseline average: 0.573200928209318\n",
      "Baseline all: 0.5621562120708178\n",
      "T-Test average: Ttest_relResult(statistic=0.7572506463682244, pvalue=0.4557080785320645)\n",
      "R^2 avg: 0.11449715908396674\n",
      "R^2 all: 0.10511919298248507\n"
     ]
    }
   ],
   "source": [
    "bench_predictions = tt.benchmark(X_test_orig, ids, period=period)\n",
    "bench, bench_all = tt.prediction_stats(bench_predictions, Y_test, Y_test_all, ids, per_patient_only=False)\n",
    "bench_avg = np.average(bench, weights=weights)\n",
    "results=f'''\n",
    "Benchmark average: {bench_avg}\n",
    "Benchmark all: {bench_all}\n",
    "Baseline average: {baseline_avg}\n",
    "Baseline all: {baseline_all}\n",
    "T-Test average: {ttest_rel(baseline, bench)}\n",
    "R^2 avg: {1-(bench_avg/baseline_avg)}\n",
    "R^2 all: {1-(bench_all/baseline_all)}'''\n",
    "print(results)\n",
    "with open(f'results/benchmark-{dataset}-{period}', 'w') as f: f.write(results)"
   ]
  },
  {
   "cell_type": "markdown",
   "metadata": {},
   "source": [
    "We choose the algorithm to work with using crossvalidation on the merged data.\n",
    "We need one of the appropriate datasets for this"
   ]
  },
  {
   "cell_type": "code",
   "execution_count": 809,
   "metadata": {},
   "outputs": [],
   "source": [
    "cross_validate_algorithm=False\n",
    "if cross_validate_algorithm:\n",
    "    algorithm = tt.choose_algorithm(avg_X_train_all, Y_train_all)\n",
    "    print(f\"Best algorithm is {algorithm}\")\n",
    "else:\n",
    "    from sklearn.svm import SVR\n",
    "    algorithm = SVR(kernel='rbf', gamma = 'scale', C=1)"
   ]
  },
  {
   "cell_type": "code",
   "execution_count": 810,
   "metadata": {},
   "outputs": [
    {
     "name": "stdout",
     "output_type": "stream",
     "text": [
      "\n",
      "    Benchmark average: 0.5075710503450583\n",
      "    Benchmark all: 0.5030628047278427\n",
      "    Baseline average: 0.573200928209318\n",
      "    Baseline all: 0.5621562120708178\n",
      "    SVM average: 0.540468778425498\n",
      "    SVM all: 0.5601894199134047\n",
      "    T-Test average: Ttest_relResult(statistic=-0.6213577717437195, pvalue=0.5397743835384238)\n",
      "    T-Test average: Ttest_relResult(statistic=0.3331002904706209, pvalue=0.7417297976263126)\n",
      "    R^2 avg: 0.05710414650945417\n",
      "    R^2 all: 0.003498657695461649\n"
     ]
    }
   ],
   "source": [
    "def run_algorithm(algorithm, X_train, Y_train, X_test, Y_test,\n",
    "                  X_train_all, Y_train_all, X_test_all, Y_test_all,\n",
    "                  ids, bench_predictions, per_patient_only=False):\n",
    "    svr_predictions = tt.regression(algorithm,\n",
    "                                    X_train, Y_train, X_test,\n",
    "                                    X_train_all, Y_train_all, X_test_all, \n",
    "                                    ids,\n",
    "                                    per_patient_only=per_patient_only)\n",
    "    svr, svr_all = tt.prediction_stats(svr_predictions, Y_test,Y_test_all,ids, per_patient_only=per_patient_only)\n",
    "#     weights=[x.shape[0] for x in X_test_orig.values()]\n",
    "#     svr,_=lstm_predictions([svr_predictions['all'],0],Y_test)\n",
    "    svr_avg = np.average(svr, weights=weights)\n",
    "    results=f'''\n",
    "    Benchmark average: {bench_avg}\n",
    "    Benchmark all: {bench_all}\n",
    "    Baseline average: {baseline_avg}\n",
    "    Baseline all: {baseline_all}\n",
    "    SVM average: {svr_avg}\n",
    "    SVM all: {svr_all}\n",
    "    T-Test average: {ttest_rel(bench, svr)}\n",
    "    T-Test average: {ttest_rel(baseline, svr)}\n",
    "    R^2 avg: {1-(svr_avg/baseline_avg)}\n",
    "    R^2 all: {1-(svr_all/baseline_all)}'''\n",
    "    print(results)\n",
    "    with open(f'results/svr-{dataset}-{period}.txt', 'w') as f: f.write(results)\n",
    "    return bench, svr\n",
    "    \n",
    "bench, svr = run_algorithm(algorithm, avg_X_train, Y_train, avg_X_test, Y_test,\n",
    "              avg_X_train_all, Y_train_all, avg_X_test_all, Y_test_all,\n",
    "              ids, bench_predictions, per_patient_only=False)"
   ]
  },
  {
   "cell_type": "code",
   "execution_count": 811,
   "metadata": {},
   "outputs": [
    {
     "data": {
      "image/png": "[encoded data removed]",
      "text/plain": [
       "<Figure size 432x288 with 1 Axes>"
      ]
     },
     "metadata": {
      "needs_background": "light"
     },
     "output_type": "display_data"
    }
   ],
   "source": [
    "plt.figure()\n",
    "plt.plot(baseline, label = 'baseline')\n",
    "plt.plot(bench, label = 'bench')\n",
    "plt.plot(svr, label = 'svr')\n",
    "plt.title('MSE for each patient')\n",
    "plt.xlabel(\"Patient number\")\n",
    "plt.ylabel(\"MSE\")\n",
    "plt.legend(loc='upper left')\n",
    "plt.savefig(f'results/svr-{dataset}-{period}.png')\n",
    "plt.show()"
   ]
  },
  {
   "cell_type": "code",
   "execution_count": 812,
   "metadata": {},
   "outputs": [],
   "source": [
    "import os\n",
    "import keras\n",
    "from keras.models import Sequential\n",
    "from keras.layers import Dense\n",
    "from keras.layers import LSTM, Dropout\n",
    "from sklearn.metrics import mean_squared_error\n",
    "\n",
    "def lstm(X_train_all, Y_train_all, X_test_all, Y_test_all, path='lstm_model.hdf5'):\n",
    "    if os.path.exists(path):\n",
    "        model = keras.models.load_model(path)\n",
    "    else:\n",
    "        val_percentage = 0.1\n",
    "        X_train, X_val = X_train_all[int(len(X_train_all)*val_percentage):,:,:], X_train_all[:int(len(X_train_all)*val_percentage),:,:]\n",
    "        Y_train, Y_val = Y_train_all[int(len(Y_train_all)*val_percentage):], Y_train_all[:int(len(Y_train_all)*val_percentage)]\n",
    "        model = Sequential()\n",
    "        model.add(LSTM(10, input_shape=(X_train.shape[1], X_train.shape[2]), return_sequences=True))\n",
    "        # model.add(Dropout(rate=0.2))\n",
    "        model.add(LSTM(10))\n",
    "        # model.add(Dropout(rate=0.2))\n",
    "        model.add(Dense(1))\n",
    "        optimizer=keras.optimizers.SGD(lr=0.04, momentum=0.9, decay=1e-3, nesterov=True)\n",
    "#         optimizer = keras.optimizers.Adam(lr=0.01, beta_1=0.9, beta_2=0.999, epsilon=None, decay=0.0, amsgrad=True)\n",
    "        model.compile(loss='mean_squared_error', optimizer=optimizer)\n",
    "        reduce_lr = keras.callbacks.ReduceLROnPlateau(monitor='val_loss', factor=0.2,\n",
    "                                      patience=5, min_lr=0.001)\n",
    "    #     es = keras.callbacks.EarlyStopping(monitor='val_loss', min_delta=0.01, patience=3, \n",
    "    #                                        verbose=0, mode='min', baseline=None, \n",
    "    #                                        restore_best_weights=True)\n",
    "        model.fit(X_train, Y_train, epochs=100, batch_size=32, verbose=2,\n",
    "                  validation_data=(X_test_all, Y_test_all),\n",
    "                  callbacks=[reduce_lr])#,es])\n",
    "        print(model.evaluate(X_test_all, Y_test_all))\n",
    "        model.save(path)\n",
    "\n",
    "    return model, (model.predict(X_test_all), model.evaluate(X_test_all, Y_test_all))\n",
    " "
   ]
  },
  {
   "cell_type": "code",
   "execution_count": null,
   "metadata": {},
   "outputs": [
    {
     "name": "stdout",
     "output_type": "stream",
     "text": [
      "Train on 827 samples, validate on 184 samples\n",
      "Epoch 1/100\n"
     ]
    }
   ],
   "source": [
    "model, preds = lstm(X_train_all, Y_train_all, X_test_all, Y_test_all, f'lstm_model_{dataset}_{period}.hdf5')"
   ]
  },
  {
   "cell_type": "code",
   "execution_count": null,
   "metadata": {},
   "outputs": [],
   "source": [
    "import itertools\n",
    "\n",
    "def lstm_predictions(lstm_preds, Y_test):\n",
    "    lens = [0]+list(itertools.accumulate(np.array([x.shape for x in Y_test.values()]).squeeze(),lambda x,y:x+y))\n",
    "    mses = []\n",
    "    for pid, (l1,l2) in zip(Y_test.keys(), zip(lens, lens[1:])):\n",
    "        p = np.array(lstm_preds[0]).squeeze()\n",
    "        pred = p[l1:l2]\n",
    "        exp = Y_test[pid]\n",
    "        mses.append(((pred-exp)**2).mean())\n",
    "    return np.array(mses), lstm_preds[1]\n",
    "lstm, lstm_all = lstm_predictions(preds, Y_test)"
   ]
  },
  {
   "cell_type": "code",
   "execution_count": null,
   "metadata": {},
   "outputs": [],
   "source": [
    "bench_avg = np.average(bench, weights=weights)\n",
    "lstm_avg = np.average(lstm, weights=weights)\n",
    "results=f'''Benchmark average: {bench_avg}\n",
    "Benchmark all: {bench_all}\n",
    "LSTM average: {lstm_avg}\n",
    "LSTM all: {lstm_all}\n",
    "T-Test average benchmark: {ttest_rel(bench, lstm)}\n",
    "T-Test average baseline: {ttest_rel(baseline, lstm)}\n",
    "R^2 average: {1-(lstm_avg/baseline_avg)}\n",
    "R^2 all: {1-(lstm_all/baseline_all)}'''\n",
    "print(results)\n",
    "with open(f'results/lstm-{dataset}-{period}.txt', 'w') as f: f.write(results)"
   ]
  },
  {
   "cell_type": "code",
   "execution_count": null,
   "metadata": {},
   "outputs": [],
   "source": [
    "plt.figure()\n",
    "plt.plot(baseline, label = 'baseline')\n",
    "plt.plot(bench, label = 'bench')\n",
    "plt.plot(lstm, label = 'lstm')\n",
    "plt.title('MSE for each patient')\n",
    "plt.xlabel(\"Patient number\")\n",
    "plt.ylabel(\"MSE\")\n",
    "plt.legend(loc='upper left')\n",
    "plt.savefig(f'results/lstm-{dataset}-{period}.png')\n",
    "plt.show()"
   ]
  },
  {
   "cell_type": "code",
   "execution_count": null,
   "metadata": {},
   "outputs": [],
   "source": []
  },
  {
   "cell_type": "code",
   "execution_count": null,
   "metadata": {},
   "outputs": [],
   "source": []
  }
 ],
 "metadata": {
  "kernelspec": {
   "display_name": "Python 3",
   "language": "python",
   "name": "python3"
  },
  "language_info": {
   "codemirror_mode": {
    "name": "ipython",
    "version": 3
   },
   "file_extension": ".py",
   "mimetype": "text/x-python",
   "name": "python",
   "nbconvert_exporter": "python",
   "pygments_lexer": "ipython3",
   "version": "3.7.0"
  }
 },
 "nbformat": 4,
 "nbformat_minor": 2
}
